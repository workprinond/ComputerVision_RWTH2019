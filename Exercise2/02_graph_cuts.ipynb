{
 "cells": [
  {
   "cell_type": "markdown",
   "metadata": {},
   "source": [
    "# Graph Cut Segmentation\n",
    "\n",
    "In this part you will implement foreground-background segmentation using *Markov random fields* (MRF).\n",
    "\n",
    "## Recap from the lecture\n",
    "A Markov random field is a graphical model that expresses the structure of (input and output) variables. In our case that means we do not only use a color model for foreground and background but also take into account the neighborhood relations of the pixels. This encodes the intuition that neighboring pixels usually belong to the same region.\n",
    "\n",
    "The color (or more generally, appearance) models and the neighborhood relations are combined in a so-called *energy function* (or cost function), which is then minimized to obtain an optimal label-assignment.\n",
    "\n",
    "Given a structured input (here: image pixel colors) $\\mathcal{Y} = \\{Y_j|j \\in I\\}$ we want to find the output (here: labeling) $\\mathcal{X} = \\{X_j | j \\in I\\}$ such that\n",
    "\n",
    "$$\n",
    "\\hat{\\mathcal{X}} = \\arg \\min_{\\mathcal{X}} E(\\mathcal{X}, \\mathcal{Y})\n",
    "$$\n",
    "\n",
    "$$\n",
    "E(\\mathcal{X}, \\mathcal{Y}) = \\sum_{j\\in I}{\\psi_u (X_j,Y_j)} + \\sum_{i, j\\in I}{\\psi_p (X_j,X_j,Y_i,Y_j, i, j)}.\n",
    "$$\n",
    "\n",
    "The set $I$ contains all possible pixel indices. In our two-label (binary) segmentation case, the label variables must be either 0 (background) or 1 (foreground) $X_j \\in \\{0, 1\\}$.\n",
    "\n",
    "The so-called *unary potential* $\\psi_u (X_j,Y_j)$ is the cost of assigning the label $X_j$ to a pixel with color $Y_j$. In probabilistic terms, the unary potential is\n",
    "\n",
    "$$\n",
    "\\psi_u (X_j,Y_j)=-\\omega_u \\cdot \\log p(X_j|Y_j),\n",
    "$$\n",
    "\n",
    "with an appropriate model $p$ for the foreground and the background and a weighting factor $\\omega_u$. The unaries encourage labeling each pixel with the label (foreground/background) whose color model is a better fit for that particular pixel.\n",
    "\n",
    "The *pairwise potential* $\\psi_p$ incorporates the dependencies between pixels. To speed up the computation, the pairwise model is usually restricted to neighboring pixels and is therefore set to zero if the $i$th and $j$th pixels are not direct neighbors in a 4-neighborhood. In our case it written as:\n",
    "\n",
    "$$\n",
    "\\psi_p (X_i,X_j,Y_i,Y_j, i, j)=\\omega_p\\cdot\n",
    "\\begin{cases}\n",
    "1,&\\text{if }   X_i\\neq X_j \\text{ and } i,j \\text{ are neighbors}  \\\\\n",
    "0,&\\text{otherwise}\n",
    "\\end{cases}\n",
    "$$\n",
    "\n",
    "with some weighting factor $\\omega_p$. Such pairwise potentials encourage neighboring pixels to have the same label.\n",
    "\n",
    "A Graph Cut method is used to find the optimal solution $\\hat{\\chi}$ of the energy function.\n",
    "\n",
    "## Bird's eye overview\n",
    "\n",
    "It's easy to get lost in all the details, so here's an roadmap of what we're going to do:\n",
    "\n",
    "1. Set up the Markov Random Field (define unaries and pairwise potentials), in more detail:\n",
    "    1. Model the distribution of background and foreground colors based on the colors found in approximate initial regions\n",
    "    2. For each pixel independently, calculate the posterior probability of being foreground, based on the models from the previous step (\"probability map\")\n",
    "    3. Calculate the unary potentials based on the foreground probability map\n",
    "    4. Define the pairwise potentials (using the neighborhood relations)\n",
    "2. Use graph cuts to minimize the energy function of the Markov Random Field and obtain a labeling\n",
    "\n",
    "You will not have to implement the min-cut algorithm yourself, we will use the `pygco` (\"Python Graph Cut Optimizer\") package for that. You can install it using `conda install pygco -c kayarre`. (This is a Python wrapper over the C++ gco library, which can be found at https://vision.cs.uwaterloo.ca/code/)"
   ]
  },
  {
   "cell_type": "code",
   "execution_count": null,
   "metadata": {},
   "outputs": [],
   "source": [
    "%%html\n",
    "<!-- Add heading numbers -->\n",
    "<style>\n",
    "body {counter-reset: section;}\n",
    "h2:before {counter-increment: section;\n",
    "           content: counter(section) \" \";}\n",
    "</style>"
   ]
  },
  {
   "cell_type": "code",
   "execution_count": null,
   "metadata": {},
   "outputs": [],
   "source": [
    "# Some imports and helper functions\n",
    "%matplotlib notebook\n",
    "import numpy as np\n",
    "import matplotlib.pyplot as plt\n",
    "import imageio\n",
    "import time\n",
    "import cv2\n",
    "import pygco  # conda install pygco -c kayarre\n",
    "\n",
    "def draw_mask_on_image(image, mask, color=(0, 255, 255)):\n",
    "    \"\"\"Return a visualization of a mask overlaid on an image.\"\"\"\n",
    "    result = image.copy()\n",
    "    kernel = cv2.getStructuringElement(cv2.MORPH_RECT, (3, 3))\n",
    "    dilated = cv2.morphologyEx(mask.astype(np.uint8), cv2.MORPH_DILATE, kernel)\n",
    "    outline = dilated > mask\n",
    "    result[mask == 1] = (result[mask == 1] * 0.4 + \n",
    "                         np.array(color) * 0.6).astype(np.uint8)\n",
    "    result[outline] = color\n",
    "    return result"
   ]
  },
  {
   "cell_type": "markdown",
   "metadata": {},
   "source": [
    "## Initial masks\n",
    "\n",
    "First, manually create initial boxes of foreground and background regions.\n",
    "\n",
    "We will use these to build color models. That is, to model the probability of a pixel color occuring, given either that it is a foreground or a background pixel."
   ]
  },
  {
   "cell_type": "code",
   "execution_count": null,
   "metadata": {
    "nbgrader": {
     "grade": true,
     "grade_id": "cell-2e77789346031467",
     "locked": false,
     "points": 0,
     "schema_version": 1,
     "solution": true
    }
   },
   "outputs": [],
   "source": [
    "im = imageio.imread('lotus320.jpg')\n",
    "h,w = im.shape[:2]\n",
    "\n",
    "# Set up initial foreground and background\n",
    "# regions for building the color model\n",
    "init_fg_mask = np.zeros([h, w])\n",
    "init_bg_mask = np.zeros([h, w])\n",
    "\n",
    "# Do something like the following but with sensible\n",
    "# indices\n",
    "#init_fg_mask[10:20, 15:30] = 1\n",
    "#init_bg_mask[60:90, 50:110] = 1\n",
    "\n",
    "### BEGIN SOLUTION\n",
    "init_fg_mask[90:210, 140:310] = 1\n",
    "init_bg_mask[0:77, 0:121] = 1\n",
    "### END SOLUTION\n",
    "\n",
    "fig, axes = plt.subplots(1, 2, figsize=(10,5))\n",
    "axes[0].set_title('Initial foreground mask')\n",
    "axes[0].imshow(draw_mask_on_image(im, init_fg_mask))\n",
    "axes[1].set_title('Initial background mask')\n",
    "axes[1].imshow(draw_mask_on_image(im, init_bg_mask))\n",
    "fig.tight_layout()"
   ]
  },
  {
   "cell_type": "markdown",
   "metadata": {},
   "source": [
    "## Color histograms\n",
    "\n",
    "Usually *Gaussian mixture models* are used to model color distributions. However, to keep this exercise simple, we will only use color histograms (i.e. the relative frequencies of quantized colors) in the respective region of the image defined by the boxes. In other words, we model the color simply as a categorical random variable.\n",
    "\n",
    "Implement the function `calculate_histogram`. It should take as input the image `img` with values in $[0, 255]$ and a `mask` the same size as the image. The mask is 1 at the positions of the image where the histogram should be computed, zero otherwise. The final parameter `n_bins` defines how many bins should be used in the histogram in each dimension. The function should **return a 3-dimensional array** of shape `[n_bins, n_bins, n_bins]`, containing the relative frequency for each (r,g,b) color bin within the region of the image defined by the mask, i.e. the fraction of pixels falling within each bin. The histogram should be normalized (sum to 1). Initialize all bins with a small value ($10^{−3}$) to counteract relative frequencies which are zero (this method is called additive smoothing)."
   ]
  },
  {
   "cell_type": "code",
   "execution_count": null,
   "metadata": {
    "nbgrader": {
     "grade": true,
     "grade_id": "cell-fdbb796b3660b29f",
     "locked": false,
     "points": 0,
     "schema_version": 1,
     "solution": true
    }
   },
   "outputs": [],
   "source": [
    "def calculate_histogram(img, mask, n_bins):\n",
    "    histogram = np.full((n_bins, n_bins, n_bins), fill_value=0.001)\n",
    "    \n",
    "    ### BEGIN SOLUTION\n",
    "    # convert values to range of bins\n",
    "    binned_im = (img.astype(np.float32)/256*n_bins).astype(int)\n",
    "\n",
    "    for y in range(img.shape[0]):\n",
    "        for x in range(img.shape[1]):\n",
    "            if mask[y, x] != 0:\n",
    "                histogram[binned_im[y, x, 0],\n",
    "                          binned_im[y, x, 1], \n",
    "                          binned_im[y, x, 2]] += 1\n",
    "                \n",
    "    # normalize\n",
    "    histogram /= np.sum(histogram)\n",
    "    \n",
    "    ### END SOLUTION\n",
    "    return histogram"
   ]
  },
  {
   "cell_type": "code",
   "execution_count": null,
   "metadata": {},
   "outputs": [],
   "source": [
    "n_bins = 10\n",
    "fg_histogram = calculate_histogram(im, init_fg_mask, n_bins)\n",
    "bg_histogram = calculate_histogram(im, init_bg_mask, n_bins)\n",
    "\n",
    "fig, axes = plt.subplots(\n",
    "    3, 2, figsize=(5,5), sharex=True, \n",
    "    sharey=True, num='Relative frequency of color bins')\n",
    "\n",
    "x = np.arange(n_bins)\n",
    "axes[0,0].bar(x, np.sum(fg_histogram, (1, 2)))\n",
    "axes[0,0].set_title('red (foreground)')\n",
    "axes[1,0].bar(x, np.sum(fg_histogram, (0, 2)))\n",
    "axes[1,0].set_title('green (foreground)')\n",
    "axes[2,0].bar(x, np.sum(fg_histogram, (0, 1)))\n",
    "axes[2,0].set_title('blue (foreground)')\n",
    "\n",
    "axes[0,1].bar(x, np.sum(bg_histogram, (1, 2)))\n",
    "axes[0,1].set_title('red (background)')\n",
    "axes[1,1].bar(x, np.sum(bg_histogram, (0, 2)))\n",
    "axes[1,1].set_title('green (background)')\n",
    "axes[2,1].bar(x, np.sum(bg_histogram, (0, 1)))\n",
    "axes[2,1].set_title('blue (background)')\n",
    "fig.tight_layout()"
   ]
  },
  {
   "cell_type": "markdown",
   "metadata": {},
   "source": [
    "What do you see in these histograms?"
   ]
  },
  {
   "cell_type": "markdown",
   "metadata": {
    "nbgrader": {
     "grade": true,
     "grade_id": "cell-7582c0855089a2b7",
     "locked": false,
     "points": 0,
     "schema_version": 1,
     "solution": true
    }
   },
   "source": []
  },
  {
   "cell_type": "markdown",
   "metadata": {},
   "source": [
    "## Foreground probability map\n",
    "\n",
    "The next step in the segmentation process is to estimate a probability map: For each pixel we want to estimate the probability that it belongs to the foreground. This will be used as basis for the unary potential.\n",
    "\n",
    "The function `foreground_pmap(img, fg_histogram, bg_histogram)` should take the image `img` and the two histograms `fg_histogram`, `bg_histogram` estimated from the foreground region and the background region respecively. It should return an array of shape $\\texttt{height}\\times\\texttt{width}$ containing the probability of each pixel belonging to the foreground. To estimate the required probability $p(c|[r, g, b])$ from the computed histograms, a class prior $p(c)$ of $0.5$ should be used, which means that both foreground and background pixels are equally likely a priori. \n",
    "\n",
    "Recall Bayes' theorem applied to this case:\n",
    "\n",
    "$$\n",
    "p(c\\ |\\ r,g,b) = \\frac{p(c) \\cdot p(r,g,b\\ |\\ c)}{p(r,g,b)} = \\frac{p(c)\\cdot p(r,g,b\\ |\\ c)}{\\sum_{\\tilde{c}} p(\\tilde{c}) \\cdot p(r,g,b\\ |\\ \\tilde{c}) }\n",
    "$$"
   ]
  },
  {
   "cell_type": "code",
   "execution_count": null,
   "metadata": {
    "nbgrader": {
     "grade": true,
     "grade_id": "cell-95f7f7212e4f293c",
     "locked": false,
     "points": 0,
     "schema_version": 1,
     "solution": true
    }
   },
   "outputs": [],
   "source": [
    "def foreground_pmap(img, fg_histogram, bg_histogram):\n",
    "    ### BEGIN SOLUTION\n",
    "    h, w, c = img.shape\n",
    "    n_bins = len(fg_histogram)\n",
    "    binned_im = (img.astype(np.float32)/256*n_bins).astype(int)\n",
    "    \n",
    "    # prior probabilities\n",
    "    p_fg = 0.5\n",
    "    p_bg = 1 - p_fg\n",
    "    \n",
    "    # extract fg & bg prob from histograms\n",
    "    p_rgb_given_fg = fg_histogram[binned_im[:, :, 0],\n",
    "                                  binned_im[:, :, 1], \n",
    "                                  binned_im[:, :, 2]]\n",
    "    \n",
    "    p_rgb_given_bg = bg_histogram[binned_im[:, :, 0],\n",
    "                                  binned_im[:, :, 1],\n",
    "                                  binned_im[:, :, 2]]\n",
    "    \n",
    "    p_fg_given_rgb = (p_fg * p_rgb_given_fg /\n",
    "                      (p_fg * p_rgb_given_fg + p_bg * p_rgb_given_bg))\n",
    "    return p_fg_given_rgb\n",
    "    ### END SOLUTION\n",
    "    \n",
    "def likelihood_map(img, histogram):\n",
    "    ### BEGIN SOLUTION\n",
    "    h, w, c = img.shape\n",
    "    n_bins = len(histogram)\n",
    "    binned_im = (img.astype(np.float32)/256*n_bins).astype(int)\n",
    "    \n",
    "   \n",
    "    # extract fg & bg prob from histograms\n",
    "    return histogram[binned_im[:, :, 0],\n",
    "                       binned_im[:, :, 1], \n",
    "                       binned_im[:, :, 2]]\n",
    "    ### END SOLUTION\n"
   ]
  },
  {
   "cell_type": "code",
   "execution_count": null,
   "metadata": {
    "scrolled": false
   },
   "outputs": [],
   "source": [
    "foreground_prob = foreground_pmap(im, fg_histogram, bg_histogram)\n",
    "fig, axes = plt.subplots(1, 2, figsize=(10,5), sharey=True)\n",
    "axes[0].imshow(im)\n",
    "axes[0].set_title('Input image')\n",
    "im_plot = axes[1].imshow(foreground_prob, cmap='viridis')\n",
    "axes[1].set_title('Foreground posterior probability')\n",
    "fig.tight_layout()\n",
    "fig.colorbar(im_plot, ax=axes)\n",
    "foreground_map = (foreground_prob > 0.5)"
   ]
  },
  {
   "cell_type": "markdown",
   "metadata": {},
   "source": [
    "Explain what you see in the probability map."
   ]
  },
  {
   "cell_type": "markdown",
   "metadata": {
    "nbgrader": {
     "grade": true,
     "grade_id": "cell-35edc5393045eb8e",
     "locked": false,
     "points": 0,
     "schema_version": 1,
     "solution": true
    }
   },
   "source": []
  },
  {
   "cell_type": "markdown",
   "metadata": {},
   "source": [
    "## Unary potentials\n",
    "Use the previously computed probability map `foreground_map` to compute the unary potential for both foreground and background.\n",
    "\n",
    "This function `unary_potentials(probability_map, unary_weight)` shall use the `probability_map` and a scalar weighting factor to compute the unary potentials. It should return a matrix of the same size as the probability matrix."
   ]
  },
  {
   "cell_type": "code",
   "execution_count": null,
   "metadata": {
    "nbgrader": {
     "grade": true,
     "grade_id": "cell-b49b5083d5721c0f",
     "locked": false,
     "points": 0,
     "schema_version": 1,
     "solution": true
    }
   },
   "outputs": [],
   "source": [
    "def unary_potentials(probability_map, unary_weight):\n",
    "    ### BEGIN SOLUTION\n",
    "    return -unary_weight * np.log(probability_map)\n",
    "    ### END SOLUTION\n",
    "    \n",
    "unary_weight = 1\n",
    "unary_fg = unary_potentials(foreground_prob, unary_weight)\n",
    "unary_bg = unary_potentials(1 - foreground_prob, unary_weight)\n",
    "fig, axes = plt.subplots(1, 2, figsize=(10,5), sharey=True)\n",
    "axes[0].imshow(unary_fg)\n",
    "axes[0].set_title('Unary potentials (foreground)')\n",
    "im_plot = axes[1].imshow(unary_bg)\n",
    "axes[1].set_title('Unary potentials (background)')\n",
    "fig.tight_layout()\n",
    "fig.colorbar(im_plot, ax=axes)"
   ]
  },
  {
   "cell_type": "markdown",
   "metadata": {},
   "source": [
    "Why are the unary potentials for the foreground so small in the middle of the flower?"
   ]
  },
  {
   "cell_type": "markdown",
   "metadata": {
    "nbgrader": {
     "grade": true,
     "grade_id": "cell-fe74e786d39d5cac",
     "locked": false,
     "points": 0,
     "schema_version": 1,
     "solution": true
    }
   },
   "source": []
  },
  {
   "cell_type": "markdown",
   "metadata": {},
   "source": [
    "## Pairwise potentials\n",
    "\n",
    "Create a function to compute the prefactor $w_p$ of the pairwise potential for two specific pixels. Implement the funtion below, where `img` is the image, `(x1, y1), (x2, y2)` are the pixel coordinates in the image and the last parameter is the weight $\\omega_p$ for the pairwise potential. (Do not confuse `(x1, y1), (x2, y2)` with the $X_j, Y_j$ from the top of the page) \n",
    "\n",
    "Keep in mind that this prefactor does not depend on the labels and is therefore independent of $\\mathcal{X}$.\n",
    "\n",
    "Also, the function signature is more general (see the contrast-sensitive Potts Model question later on), not all parameters are needed here.\n",
    "\n",
    "*Hint:* the function is extremely simple."
   ]
  },
  {
   "cell_type": "code",
   "execution_count": null,
   "metadata": {
    "nbgrader": {
     "grade": true,
     "grade_id": "cell-c5fb31a66d81191c",
     "locked": false,
     "points": 0,
     "schema_version": 1,
     "solution": true
    }
   },
   "outputs": [],
   "source": [
    "def pairwise_potential_prefactor(img, x1, y1, x2, y2, pairwise_weight):\n",
    "    ### BEGIN SOLUTION\n",
    "    return pairwise_weight * np.exp(-1e-1*np.sum((img[y1,x1]-img[y2,x2])**2))\n",
    "    ### END SOLUTION"
   ]
  },
  {
   "cell_type": "markdown",
   "metadata": {},
   "source": [
    "Using the functions from the previous task, implement a function to compute all the pairwise potentials for the image using 4-neighborhoods. That means only the top, bottom, left and right neighboring pixels should be connected to a given pixel.\n",
    "\n",
    "The function `pairwise_potentials` should return the `edges` (represented as index pairs) and an array `costs` containing the corresponding edge costs (i.e. the value of the pairwise potential prefactor). Note that you have to use a linearized index instead of (x,y)-coordinates. A conversion function is supplied (`coords_to_index(x, y, width)`).\n",
    "\n",
    "Again, `edges` should be an integer array of shape $k\\times 2$, while `costs` should have length $k$, where $k$ is the number of neighborhood-edges in the image grid."
   ]
  },
  {
   "cell_type": "code",
   "execution_count": null,
   "metadata": {
    "nbgrader": {
     "grade": true,
     "grade_id": "cell-d1c10b8c69f5ccbb",
     "locked": false,
     "points": 0,
     "schema_version": 1,
     "solution": true
    }
   },
   "outputs": [],
   "source": [
    "def coords_to_index(x, y, width):\n",
    "    return y * width + x\n",
    "\n",
    "def pairwise_potentials(im, pairwise_weight):\n",
    "    ### BEGIN SOLUTION\n",
    "    edges = []\n",
    "    costs = []\n",
    "\n",
    "    im = im.astype(np.float32)/255\n",
    "    h, w = im.shape[:2]\n",
    "    for y in range(h):\n",
    "        for x in range(w):\n",
    "            # Neighbor coordinates\n",
    "            xs_neigh = x + np.array([0, 1, 0, -1])\n",
    "            ys_neigh = y + np.array([-1, 0, 1, 0])\n",
    "            \n",
    "            # Make sure neighbors are within image\n",
    "            mask = np.logical_and(\n",
    "                np.logical_and(xs_neigh >= 0, xs_neigh < w),\n",
    "                np.logical_and(ys_neigh >= 0, ys_neigh < h))\n",
    "            xs_neigh = xs_neigh[mask]\n",
    "            ys_neigh = ys_neigh[mask]\n",
    "            \n",
    "            center_index = coords_to_index(x, y, w)\n",
    "            for x_neigh, y_neigh in zip(xs_neigh, ys_neigh):\n",
    "                cost = pairwise_potential_prefactor(\n",
    "                    im, x, y, x_neigh, y_neigh, pairwise_weight)\n",
    "                neighbor_index = coords_to_index(x_neigh, y_neigh, w)\n",
    "                edges.append((center_index, neighbor_index))\n",
    "                costs.append(cost)\n",
    "                \n",
    "    edges = np.array(edges)\n",
    "    costs = np.array(costs)\n",
    "    ### END SOLUTION\n",
    "    return edges, costs\n",
    "\n",
    "pairwise_edges, pairwise_costs = pairwise_potentials(im, pairwise_weight=50)"
   ]
  },
  {
   "cell_type": "markdown",
   "metadata": {},
   "source": [
    "Now you can execute the optimization and plot the resulting labeling."
   ]
  },
  {
   "cell_type": "code",
   "execution_count": null,
   "metadata": {},
   "outputs": [],
   "source": [
    "def graph_cut(unary_fg, unary_bg, pairwise_edges, pairwise_costs):\n",
    "    unaries = np.stack([unary_bg.flat, unary_fg.flat], axis=-1)\n",
    "    labels = pygco.cut_general_graph(\n",
    "        pairwise_edges, pairwise_costs, unaries, \n",
    "        1-np.eye(2), n_iter=-1, algorithm='swap')\n",
    "    return labels.reshape(unary_fg.shape)\n",
    "\n",
    "def graph_cut_slow(unary_fg, unary_bg, pairwise_edges, pairwise_costs):\n",
    "    import networkx as nx\n",
    "    from networkx.algorithms.flow import preflow_push\n",
    "    \n",
    "    graph = nx.Graph()\n",
    "    s = object()\n",
    "    t = object()\n",
    "    \n",
    "    edges = []\n",
    "    for i, cost in enumerate(unary_bg.flat):\n",
    "        edges.append((s, i, cost))\n",
    "    for i, cost in enumerate(unary_fg.flat):\n",
    "        edges.append((i, t, cost))\n",
    "    for (i,j), cost in zip(pairwise_edges, pairwise_costs):\n",
    "        edges.append((i, j, cost))\n",
    "        \n",
    "    graph.add_weighted_edges_from(edges, 'capacity')\n",
    "    \n",
    "    nodes_connected_to_s = nx.minimum_cut(\n",
    "        graph, s, t, flow_func=preflow_push)[1][0]\n",
    "    \n",
    "    fg_pixel_indices = list(set(nodes_connected_to_s) - {s})\n",
    "    labels = np.zeros_like(unary_fg, dtype=np.int)\n",
    "    labels.flat[fg_pixel_indices] = 1\n",
    "    return labels\n",
    "    \n",
    "graph_cut_result = graph_cut(unary_fg, unary_bg, pairwise_edges, pairwise_costs)\n",
    "fig, axes = plt.subplots(1, 2, figsize=(10,5), sharey=True)\n",
    "axes[0].set_title('Simple thresholding of foreground probability')\n",
    "axes[0].imshow(draw_mask_on_image(im, foreground_prob>0.5))\n",
    "axes[1].set_title('Graph cut result')\n",
    "axes[1].imshow(draw_mask_on_image(im, graph_cut_result))\n",
    "fig.tight_layout()"
   ]
  },
  {
   "cell_type": "markdown",
   "metadata": {},
   "source": [
    "Why is the segmentation the way it is?"
   ]
  },
  {
   "cell_type": "markdown",
   "metadata": {
    "nbgrader": {
     "grade": true,
     "grade_id": "cell-9ae3813d75e1500b",
     "locked": false,
     "points": 0,
     "schema_version": 1,
     "solution": true
    }
   },
   "source": []
  },
  {
   "cell_type": "markdown",
   "metadata": {},
   "source": [
    "## [BONUS] Try another image\n",
    "\n",
    "First, create a single function that runs the whole segmentation pipeline starting from the image.\n",
    "\n",
    "`segment_image(...)` should return the final binary segmentation mask with 1 at the foreground pixels and 0 at the background."
   ]
  },
  {
   "cell_type": "code",
   "execution_count": null,
   "metadata": {
    "nbgrader": {
     "grade": true,
     "grade_id": "cell-fe2ce88a33cb65ea",
     "locked": false,
     "points": 0,
     "schema_version": 1,
     "solution": true
    }
   },
   "outputs": [],
   "source": [
    "def segment_image(im, init_fg_mask, init_bg_mask,\n",
    "                  unary_weight, pairwise_weight, n_bins):\n",
    "    ### BEGIN SOLUTION\n",
    "    fg_histogram = calculate_histogram(im, init_fg_mask, n_bins)\n",
    "    bg_histogram = calculate_histogram(im, init_bg_mask, n_bins)\n",
    "\n",
    "    foreground_prob = foreground_pmap(im, fg_histogram, bg_histogram)\n",
    "    unary_fg = unary_potentials(foreground_prob, unary_weight)\n",
    "    unary_bg = unary_potentials(1 - foreground_prob, unary_weight)\n",
    "    \n",
    "    pairwise_edges, pairwise_costs = pairwise_potentials(im, pairwise_weight)\n",
    "    return graph_cut(unary_fg, unary_bg, pairwise_edges, pairwise_costs)\n",
    "    ### END SOLUTION"
   ]
  },
  {
   "cell_type": "code",
   "execution_count": null,
   "metadata": {
    "nbgrader": {
     "grade": true,
     "grade_id": "cell-eac3714d77c34a96",
     "locked": false,
     "points": 0,
     "schema_version": 1,
     "solution": true
    }
   },
   "outputs": [],
   "source": [
    "import skimage.data\n",
    "\n",
    "def run_on_another_image():\n",
    "    im = skimage.data.immunohistochemistry()\n",
    "    #im = skimage.data.stereo_motorcycle()[0]\n",
    "    h, w = im.shape[:2]\n",
    "    fg_mask = np.zeros([h, w])\n",
    "    bg_mask = np.zeros([h, w])\n",
    "\n",
    "    # Set some appropriate parts of fg_mask and bg_mask to 1 for initialization.\n",
    "    ### BEGIN SOLUTION\n",
    "    # Immunohistochemistry image:\n",
    "    fg_mask[0:125, 0:410] = 1\n",
    "    bg_mask[306:512, 390:512] = 1\n",
    "    # Flowers:\n",
    "    #fg_mask[115:210, 75:375] = 1\n",
    "    #bg_mask[:24] = 1\n",
    "    ### END SOLUTION\n",
    "\n",
    "    graph_cut_result = segment_image(\n",
    "        im, fg_mask, bg_mask, \n",
    "        unary_weight=1, pairwise_weight=3, n_bins=8)\n",
    "    \n",
    "    fig, axes = plt.subplots(1, 3, figsize=(14,5), sharey=True)\n",
    "    axes[0].set_title('Initial foreground mask')\n",
    "    axes[0].imshow(draw_mask_on_image(im, fg_mask))\n",
    "    axes[1].set_title('Initial background mask')\n",
    "    axes[1].imshow(draw_mask_on_image(im, bg_mask))\n",
    "    axes[2].set_title('Graph cut result')\n",
    "    axes[2].imshow(draw_mask_on_image(im, graph_cut_result))\n",
    "    fig.tight_layout()\n",
    "    \n",
    "run_on_another_image()"
   ]
  },
  {
   "cell_type": "markdown",
   "metadata": {},
   "source": [
    "Does it look good? Which parameter would you need to change to reduce the number of holes in the segmentation? Try it.\n",
    "\n",
    "Now try segmenting `im = skimage.data.stereo_motorcycle()[0]` using this technique. Can you segment out the motorbike by fiddling with the parameters? Why or why not?"
   ]
  },
  {
   "cell_type": "markdown",
   "metadata": {},
   "source": [
    "## [BONUS] Contrast-Sensitive Potts Model\n",
    "Go back to the `pairwise_potential_prefactor` function and modify it to incorporate a new term, resulting in the so-called *contrast sensitive Potts model*. The new pairwise potential should be:\n",
    "\n",
    "$$\n",
    "\\psi_p (X_i,X_j,Y_i,Y_j,i,j)=\\omega_p\\cdot \\exp\\left(-\\omega_d\\|Y_i - Y_j\\|^2\\right)\\cdot \n",
    "\\begin{cases}\n",
    "1,&\\text{if } X_i \\neq X_j \\text{ and } i,j \\text{ are neighbors}  \\\\\n",
    "0,&\\text{otherwise}\n",
    "\\end{cases}\n",
    "$$\n",
    "\n",
    "This means the prefactor is now $\\omega_p\\cdot \\exp\\left(-\\omega_d\\|Y_i - Y_j\\|^2\\right)$. For simplicity, you can hardcode the parameter $\\omega_d$. "
   ]
  },
  {
   "cell_type": "markdown",
   "metadata": {},
   "source": [
    "What changes when using the contrast sensitive Potts model? What is the intuition behind adding this new term?"
   ]
  },
  {
   "cell_type": "markdown",
   "metadata": {
    "nbgrader": {
     "grade": true,
     "grade_id": "cell-b349dae73ad633f2",
     "locked": false,
     "points": 0,
     "schema_version": 1,
     "solution": true
    }
   },
   "source": []
  },
  {
   "cell_type": "markdown",
   "metadata": {},
   "source": [
    "## [BONUS] Iterative Segmentation\n",
    "\n",
    "We can make the result better if we iterate the labeling process several times. Implement `iterative_opt`, a method to execute the optimization process iteratively. \n",
    "\n",
    "Use the previously computed labeling as initial segmentation (instead of the rectangular masks we used above) and estimate new models (histograms and unaries) for foreground and background based on these. Solve the graph cut problem and use the resulting segmentation in the next iteration."
   ]
  },
  {
   "cell_type": "code",
   "execution_count": null,
   "metadata": {
    "nbgrader": {
     "grade": true,
     "grade_id": "cell-2ce5215dc845ca7b",
     "locked": false,
     "points": 0,
     "schema_version": 1,
     "solution": true
    },
    "scrolled": false
   },
   "outputs": [],
   "source": [
    "def iterative_opt(img, fg_mask, n_bins, unary_weight,\n",
    "                  pairwise_edges, pairwise_costs, n_iter):\n",
    "    ### BEGIN SOLUTION\n",
    "    h, w, c = img.shape\n",
    "    for i in range(n_iter):\n",
    "        # recalculate histograms based on new masks\n",
    "        fg_histogram = calculate_histogram(img, fg_mask, n_bins)\n",
    "        bg_histogram = calculate_histogram(img, 1-fg_mask, n_bins)\n",
    "\n",
    "        foreground_probability = foreground_pmap(img, fg_histogram, bg_histogram)\n",
    "        unary_fg = unary_potentials(foreground_probability, unary_weight)\n",
    "        unary_bg = unary_potentials(1 - foreground_probability, unary_weight)\n",
    "        fg_mask = graph_cut(unary_fg, unary_bg, pairwise_edges, pairwise_costs)\n",
    "    return fg_mask\n",
    "    ### END SOLUTION\n",
    "\n",
    "labels_5 = iterative_opt(\n",
    "    im, graph_cut_result, n_bins, unary_weight, pairwise_edges, pairwise_costs, n_iter=5)\n",
    "labels_10 = iterative_opt(\n",
    "    im, labels_5, n_bins, unary_weight, pairwise_edges, pairwise_costs, n_iter=5)\n",
    "\n",
    "fig, axes = plt.subplots(1, 3, figsize=(12,4), sharex=True, sharey=True)\n",
    "axes[0].set_title('Initial')\n",
    "axes[0].imshow(draw_mask_on_image(im, graph_cut_result))\n",
    "axes[1].set_title(f'After 5 iterations')\n",
    "axes[1].imshow(draw_mask_on_image(im, labels_5))\n",
    "axes[2].set_title(f'After 10 iterations')\n",
    "axes[2].imshow(draw_mask_on_image(im, labels_10))\n",
    "fig.tight_layout()"
   ]
  },
  {
   "cell_type": "markdown",
   "metadata": {},
   "source": [
    "How did the labeling change? Do you have an explanation why?"
   ]
  },
  {
   "cell_type": "markdown",
   "metadata": {
    "nbgrader": {
     "grade": true,
     "grade_id": "cell-070840fac2ef0f43",
     "locked": false,
     "points": 0,
     "schema_version": 1,
     "solution": true
    }
   },
   "source": []
  },
  {
   "cell_type": "markdown",
   "metadata": {},
   "source": [
    "## [BONUS++] Interactive Segmentation\n",
    "\n",
    "We can get even better results by incorporating user input into the iterative segmentation process you implemented above.\n",
    "\n",
    "Extend the given framework to allow the user to add or remove rectangular regions from the graph cut result. Then recalculate the foreground and background model according to new mask. Iterate this process until the user is satisfied with the result.\n",
    "\n",
    "For this, look up how to create interactive graphical interfaces using Matplotlib, see for example `matplotlib.widgets.RectangleSelector` and `matplotlib.widgets.Button`."
   ]
  },
  {
   "cell_type": "code",
   "execution_count": null,
   "metadata": {
    "nbgrader": {
     "grade": true,
     "grade_id": "cell-4d1f1ca28f5d8b56",
     "locked": false,
     "points": 0,
     "schema_version": 1,
     "solution": true
    }
   },
   "outputs": [],
   "source": [
    "### BEGIN SOLUTION\n",
    "import matplotlib.widgets\n",
    "\n",
    "class InteractiveSegmenter:\n",
    "    def __init__(self, im, mask, pairwise_weight):\n",
    "        self.im = im\n",
    "        self.mask = mask\n",
    "        self.initial_mask = self.mask.copy()\n",
    "        \n",
    "        self.fig, self.ax = plt.subplots(1, figsize=(8,7), sharex=True, sharey=True)\n",
    "        self.image_artist = self.ax.imshow(draw_mask_on_image(self.im, self.mask))\n",
    "\n",
    "        self.buttons = [\n",
    "            self.make_button('Reset', self.reset, 0.2),\n",
    "            self.make_button('Add Box', lambda: self.set_mask_part(1), 0.35),\n",
    "            self.make_button('Remove Box', lambda: self.set_mask_part(0), 0.5),\n",
    "            self.make_button('Optimize!', self.optimize, 0.65)]\n",
    "        \n",
    "        self.selector = matplotlib.widgets.RectangleSelector(\n",
    "            self.ax, None, drawtype='box', useblit=True, button=[1, 3],\n",
    "            minspanx=5, minspany=5, spancoords='pixels', interactive=True)\n",
    "        \n",
    "        # Precompute these\n",
    "        self.pairwise_edges, self.pairwise_costs = pairwise_potentials(self.im, pairwise_weight)\n",
    "        self.n_bins = 10\n",
    "        \n",
    "    def make_button(self, text, func, pos):\n",
    "        ax = self.fig.add_axes([pos, 0.05, 0.13, 0.055])\n",
    "        button = matplotlib.widgets.Button(ax, text)\n",
    "        button.on_clicked(lambda *args: func())\n",
    "        return button\n",
    "        \n",
    "    def reset(self):\n",
    "        self.mask[...] = self.initial_mask\n",
    "        self.update_plot()\n",
    "        \n",
    "    def optimize(self):\n",
    "        fg_histogram = calculate_histogram(self.im, self.mask, self.n_bins)\n",
    "        bg_histogram = calculate_histogram(self.im, 1-self.mask, self.n_bins)\n",
    "        foreground_prob = foreground_pmap(self.im, fg_histogram, bg_histogram)\n",
    "        unary_fg = unary_potentials(foreground_prob, unary_weight)\n",
    "        unary_bg = unary_potentials(1 - foreground_prob, unary_weight)\n",
    "        self.mask = graph_cut(unary_fg, unary_bg, self.pairwise_edges, self.pairwise_costs)\n",
    "        self.update_plot()\n",
    "\n",
    "    def set_mask_part(self, value):\n",
    "        [x1, x2, y1, y2] = np.array(self.selector.extents).astype(int)\n",
    "        self.mask[y1:y2, x1:x2] = value\n",
    "        self.update_plot()\n",
    "        \n",
    "    def update_plot(self):\n",
    "        self.selector.extents = [0,0,0,0]\n",
    "        self.image_artist.set_array(draw_mask_on_image(self.im, self.mask))\n",
    "        for ar in self.selector.artists:\n",
    "            ar.set_visible(False)\n",
    "\n",
    "# Create an initial segmentation\n",
    "# im = imageio.imread('toucan.jpg')\n",
    "# h, w = im.shape[:2]\n",
    "# init_fg_mask = np.zeros([h, w])\n",
    "# init_bg_mask = np.zeros([h, w])\n",
    "# init_fg_mask[128:188,128:395] = 1\n",
    "# init_bg_mask[253:,:283] = 1\n",
    "\n",
    "pairwise_weight = 3\n",
    "graph_cut_result = segment_image(\n",
    "    im, init_fg_mask, init_bg_mask,\n",
    "    unary_weight=1, pairwise_weight=pairwise_weight, n_bins=10)\n",
    "\n",
    "# Start interactive graphical interface\n",
    "InteractiveSegmenter(im, graph_cut_result, pairwise_weight)\n",
    "### END SOLUTION"
   ]
  },
  {
   "cell_type": "code",
   "execution_count": null,
   "metadata": {},
   "outputs": [],
   "source": []
  }
 ],
 "metadata": {
  "celltoolbar": "Create Assignment",
  "kernelspec": {
   "display_name": "Python 3",
   "language": "python",
   "name": "python3"
  },
  "language_info": {
   "codemirror_mode": {
    "name": "ipython",
    "version": 3
   },
   "file_extension": ".py",
   "mimetype": "text/x-python",
   "name": "python",
   "nbconvert_exporter": "python",
   "pygments_lexer": "ipython3",
   "version": "3.6.6"
  }
 },
 "nbformat": 4,
 "nbformat_minor": 2
}
