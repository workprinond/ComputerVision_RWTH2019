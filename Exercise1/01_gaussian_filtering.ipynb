{
 "cells": [
  {
   "cell_type": "markdown",
   "metadata": {},
   "source": [
    "# Gaussian Filtering\n",
    "In the following, you will implement a method which generates and applies a Gaussian filter for a given variance and number of samples."
   ]
  },
  {
   "cell_type": "code",
   "execution_count": null,
   "metadata": {},
   "outputs": [],
   "source": [
    "%matplotlib notebook\n",
    "import numpy as np\n",
    "import matplotlib.pyplot as plt\n",
    "import cv2\n",
    "import imageio"
   ]
  },
  {
   "cell_type": "code",
   "execution_count": null,
   "metadata": {},
   "outputs": [],
   "source": [
    "def plot_multiple(images, titles, colormap='gray', max_columns=np.inf, share_axes=True):\n",
    "    \"\"\"Plot multiple images as subplots on a grid.\"\"\"\n",
    "    assert len(images) == len(titles)\n",
    "    n_images = len(images)\n",
    "    n_cols = min(max_columns, n_images)\n",
    "    n_rows = int(np.ceil(n_images / n_cols))\n",
    "    fig, axes = plt.subplots(\n",
    "        n_rows, n_cols, figsize=(n_cols * 4, n_rows * 4),\n",
    "        squeeze=False, sharex=share_axes, sharey=share_axes)\n",
    "\n",
    "    axes = axes.flat\n",
    "    # Hide subplots without content\n",
    "    for ax in axes[n_images:]:\n",
    "        ax.axis('off')\n",
    "        \n",
    "    if not isinstance(colormap, (list,tuple)):\n",
    "        colormaps = [colormap]*n_images\n",
    "    else:\n",
    "        colormaps = colormap\n",
    "\n",
    "    for ax, image, title, cmap in zip(axes, images, titles, colormaps):\n",
    "        ax.imshow(image, cmap=cmap)\n",
    "        ax.set_title(title)\n",
    "        \n",
    "    fig.tight_layout()"
   ]
  },
  {
   "cell_type": "markdown",
   "metadata": {},
   "source": [
    "## Part a\n",
    "Start by writing a function ``gauss`` which creates a 1D Gaussian from a given vector of integer indices $\\mathtt{x = [-w, \\ldots, w]}$:\n",
    "$$\n",
    "    \\mathtt{G[i]} = \\frac{1}{\\sqrt{2\\pi}\\sigma}\\operatorname{exp}\\biggl(-\\frac{\\mathtt{x[i]}^2}{2\\sigma^2}\\biggr)\n",
    "$$\n",
    "where $\\sigma$ is the standard deviation."
   ]
  },
  {
   "cell_type": "code",
   "execution_count": null,
   "metadata": {},
   "outputs": [],
   "source": [
    "def gauss(x, sigma):\n",
    "    return 1 / (np.sqrt(2 * np.pi) * sigma) * np.exp(-x**2 / (2 * sigma**2))"
   ]
  },
  {
   "cell_type": "code",
   "execution_count": null,
   "metadata": {},
   "outputs": [],
   "source": [
    "x = np.linspace(-5, 5, 100)\n",
    "y = gauss(x, sigma=2)\n",
    "fig, ax = plt.subplots()\n",
    "ax.plot(x, y)\n",
    "fig.tight_layout()"
   ]
  },
  {
   "cell_type": "markdown",
   "metadata": {},
   "source": [
    "## Part b\n",
    "Use the above function to implement a function `gaussian_filter(image, sigma, padding)`, which first generates a Gaussian filter and then applies it to the `image`.\n",
    "The size of the filter should be $2 \\cdot \\lceil 3 \\sigma \\rceil + 1$.\n",
    "Remember that the Gaussian is separable, *i.e.* that an equivalent 2D result can be obtained through a sequence of two 1D filtering operations.\n",
    "Do not use any existing implementation for convolution in this part (e.g. `scipy.ndimage.convolve`).\n",
    "However, you are allowed to use these implementations in the following questions."
   ]
  },
  {
   "cell_type": "code",
   "execution_count": null,
   "metadata": {},
   "outputs": [],
   "source": [
    "def gaussian_filter(image, sigma, padding=True):\n",
    "    # Generate 1D kernel\n",
    "    ks_half = int(np.ceil(3 * sigma))\n",
    "    x = np.linspace(-ks_half, ks_half, 2*ks_half + 1, dtype=float)\n",
    "    kernel = gauss(x, sigma)\n",
    "    kernel = kernel / np.sum(kernel)\n",
    "\n",
    "    # Expand kernel to handle 3-channel image\n",
    "    kernel = np.expand_dims(kernel, axis=-1)\n",
    "\n",
    "    # Add border\n",
    "    if padding:\n",
    "        image = cv2.copyMakeBorder(\n",
    "            image, ks_half, ks_half, ks_half, ks_half,\n",
    "            cv2.BORDER_DEFAULT)\n",
    "\n",
    "    # Create an image to store intermediate result\n",
    "    # of the row-wise filtering\n",
    "    image_tmp = np.empty_like(image)\n",
    "\n",
    "    # Apply row filter\n",
    "    for i in range(image.shape[0]):\n",
    "        for j in range(ks_half, image.shape[1] - ks_half):\n",
    "            image_roi = image[i, j-ks_half:j+ks_half+1]\n",
    "            image_tmp[i, j] = np.sum(image_roi * kernel, axis=0)\n",
    "\n",
    "    # Apply column filter\n",
    "    for i in range(ks_half, image.shape[0] - ks_half):\n",
    "        for j in range(image.shape[1]):\n",
    "            image_roi = image_tmp[i-ks_half:i+ks_half+1, j]\n",
    "            image[i, j] = np.sum(image_roi * kernel, axis=0)\n",
    "\n",
    "    # Crop border\n",
    "    if padding:\n",
    "        image = image[ks_half:-ks_half, ks_half:-ks_half]\n",
    "\n",
    "    return image"
   ]
  },
  {
   "cell_type": "markdown",
   "metadata": {},
   "source": [
    "Read the image ``graf_small.png`` and apply the filters with ``sigma = 2``, ``4``, and ``8``.\n",
    "Again, choose the kernel size as $2 \\cdot \\lceil 3 \\sigma\\rceil + 1$.\n",
    "What do you observe?"
   ]
  },
  {
   "cell_type": "code",
   "execution_count": null,
   "metadata": {},
   "outputs": [],
   "source": [
    "image = imageio.imread('graf_small.png')\n",
    "sigmas = [2, 4, 8]\n",
    "blurred_images = [gaussian_filter(image, s) for s in sigmas]\n",
    "titles = [f'sigma={s}' for s in sigmas]\n",
    "\n",
    "plot_multiple(blurred_images, titles)"
   ]
  },
  {
   "cell_type": "markdown",
   "metadata": {},
   "source": [
    "OpenCV has many built-in function for image smoothing.\n",
    "Check out this page:\n",
    "https://docs.opencv.org/3.1.0/d4/d13/tutorial_py_filtering.html\n",
    "\n",
    "Compare the result of ``cv2.GaussianBlur`` with your own implementation by computing the difference image.\n",
    "Was your implementation correct?"
   ]
  },
  {
   "cell_type": "code",
   "execution_count": null,
   "metadata": {
    "scrolled": false
   },
   "outputs": [],
   "source": [
    "def gauss_cv(image, sigma):\n",
    "    ks = 2 * int(np.ceil(3 * sigma)) + 1\n",
    "    return cv2.GaussianBlur(image, (ks, ks), sigma, cv2.BORDER_DEFAULT)\n",
    "\n",
    "def abs_diff(image1, image2):\n",
    "    image1 = image1.astype(np.float32)\n",
    "    image2 = image2.astype(np.float32)\n",
    "    return np.mean(np.abs(image1-image2), axis=-1)\n",
    "\n",
    "blurred_images_cv = [gauss_cv(image, s) for s in sigmas]\n",
    "differences = [abs_diff(x,y) for x, y in zip(blurred_images, blurred_images_cv)]\n",
    "\n",
    "plot_multiple(blurred_images_cv, titles)\n",
    "plot_multiple(differences, titles)\n",
    "\n",
    "# Small differences (around 1-2) can be expected because of rounding\n",
    "# Mouse over the difference image and see the value in the corner in square brackets"
   ]
  }
 ],
 "metadata": {
  "kernelspec": {
   "display_name": "Python 3",
   "language": "python",
   "name": "python3"
  },
  "language_info": {
   "codemirror_mode": {
    "name": "ipython",
    "version": 3
   },
   "file_extension": ".py",
   "mimetype": "text/x-python",
   "name": "python",
   "nbconvert_exporter": "python",
   "pygments_lexer": "ipython3",
   "version": "3.6.6"
  }
 },
 "nbformat": 4,
 "nbformat_minor": 2
}
