{
 "cells": [
  {
   "cell_type": "markdown",
   "metadata": {},
   "source": [
    "# Edge Detection\n",
    "In this exercise we will create a simple edge detector."
   ]
  },
  {
   "cell_type": "code",
   "execution_count": null,
   "metadata": {},
   "outputs": [],
   "source": [
    "%matplotlib notebook\n",
    "import numpy as np\n",
    "import matplotlib.pyplot as plt\n",
    "import imageio\n",
    "import cv2\n",
    "from scipy import ndimage"
   ]
  },
  {
   "cell_type": "markdown",
   "metadata": {},
   "source": [
    "## Some convenience functions."
   ]
  },
  {
   "cell_type": "code",
   "execution_count": null,
   "metadata": {},
   "outputs": [],
   "source": [
    "def convolve_with_two(image, kernel1, kernel2):\n",
    "    \"\"\"Apply two filters, one after the other.\"\"\"\n",
    "    image = ndimage.convolve(image, kernel1)\n",
    "    image = ndimage.convolve(image, kernel2)   \n",
    "    return image\n",
    "\n",
    "def plot_multiple(images, titles, colormap='gray', max_columns=np.inf, imsize=4, share_axes=True):\n",
    "    \"\"\"Plot multiple images as subplots on a grid.\"\"\"\n",
    "    assert len(images) == len(titles)\n",
    "    n_images = len(images)\n",
    "    n_cols = min(max_columns, n_images)\n",
    "    n_rows = int(np.ceil(n_images / n_cols))\n",
    "    fig, axes = plt.subplots(\n",
    "        n_rows, n_cols, figsize=(n_cols * imsize, n_rows * imsize),\n",
    "        squeeze=False, sharex=share_axes, sharey=share_axes)\n",
    "\n",
    "    axes = axes.flat\n",
    "    # Hide subplots without content\n",
    "    for ax in axes[n_images:]:\n",
    "        ax.axis('off')\n",
    "        \n",
    "    if not isinstance(colormap, (list,tuple)):\n",
    "        colormaps = [colormap]*n_images\n",
    "    else:\n",
    "        colormaps = colormap\n",
    "\n",
    "    for ax, image, title, cmap in zip(axes, images, titles, colormaps):\n",
    "        ax.imshow(image, cmap=cmap)\n",
    "        ax.set_title(title)\n",
    "        \n",
    "    fig.tight_layout()"
   ]
  },
  {
   "cell_type": "code",
   "execution_count": null,
   "metadata": {},
   "outputs": [],
   "source": [
    "# From Question 2: Image Derivatives\n",
    "def gauss_derivs(image, sigma):\n",
    "    kernel_radius = int(3.0 * sigma)\n",
    "    x = np.arange(-kernel_radius, kernel_radius + 1)[np.newaxis]\n",
    "    \n",
    "    # Compute 1D Gaussian kernel \n",
    "    gaussderiv_kernel1d = -1 / np.sqrt(2 * np.pi) / sigma**3 * x * np.exp(-x**2.0 / 2 / sigma**2)\n",
    "    # Compute 1D Derivative-of-Gaussian kernel\n",
    "    gauss_kernel1d = 1 / np.sqrt(2 * np.pi) / sigma * np.exp(-x**2 / 2 / sigma**2)\n",
    "    \n",
    "    image_dx = convolve_with_two(image, gaussderiv_kernel1d, gauss_kernel1d.T)\n",
    "    image_dy = convolve_with_two(image, gauss_kernel1d, gaussderiv_kernel1d.T)\n",
    "    return image_dx, image_dy\n",
    "\n",
    "def image_gradients_polar(image, sigma):\n",
    "    dx, dy = gauss_derivs(image, sigma)\n",
    "    magnitude = np.sqrt(dx**2 + dy**2)\n",
    "    direction = np.arctan2(dy, dx)  # between -pi and +pi\n",
    "    return magnitude, direction"
   ]
  },
  {
   "cell_type": "markdown",
   "metadata": {},
   "source": [
    "## Part a\n",
    "Write a function ``get_edges`` that returns a binary image ``edge`` from an input image where the color of each pixel $p$ is selected as follows (for a given threshold ``theta``):\n",
    "$$\n",
    "\\begin{eqnarray}\n",
    "    p &=&\n",
    "    \\begin{cases}\n",
    "        1, &\\text{ if }\\left|\\operatorname{grad}(\\mathtt{img})\\right|(p) \\geq \\theta\\\\\n",
    "        0, &\\text{ else}\n",
    "    \\end{cases}\n",
    "\\end{eqnarray}\n",
    "$$"
   ]
  },
  {
   "cell_type": "code",
   "execution_count": null,
   "metadata": {
    "nbgrader": {
     "grade": true,
     "grade_id": "cell-95fbcbccfc0fc900",
     "locked": false,
     "points": 0,
     "schema_version": 1,
     "solution": true
    }
   },
   "outputs": [],
   "source": [
    "def get_edges(image, sigma, theta):\n",
    "    ### BEGIN SOLUTION\n",
    "    magnitude, _ = image_gradients_polar(image, sigma)\n",
    "    return magnitude >= theta\n",
    "    ### END SOLUTION"
   ]
  },
  {
   "cell_type": "markdown",
   "metadata": {},
   "source": [
    "Experiment with the function ``get_edges`` on the example images.\n",
    "Try to get good edge images for different values of ``sigma``.\n",
    "What difficulties do you observe?\n",
    "(Note: it may pay off to look at the magnitude of the image gradient in order to get a feeling for suitable values of ``theta``)."
   ]
  },
  {
   "cell_type": "code",
   "execution_count": null,
   "metadata": {},
   "outputs": [],
   "source": [
    "color_im = imageio.imread('gantrycrane.png')\n",
    "gray_im = cv2.cvtColor(color_im, cv2.COLOR_RGB2GRAY).astype(np.float32)\n",
    "plot_multiple([gray_im], ['Image'])"
   ]
  },
  {
   "cell_type": "code",
   "execution_count": null,
   "metadata": {},
   "outputs": [],
   "source": [
    "sigmas = [1, 2]\n",
    "thetas = [1, 2, 5, 10, 20, 40, 60]\n",
    "\n",
    "images = []\n",
    "titles = []\n",
    "for sigma in sigmas:\n",
    "    for theta in thetas:\n",
    "        edges = get_edges(gray_im, sigma, theta)    \n",
    "        images.append(edges)\n",
    "        titles.append(f'sigma={sigma}, theta={theta}')\n",
    "\n",
    "plot_multiple(images, titles, max_columns=7, imsize=2)"
   ]
  },
  {
   "cell_type": "markdown",
   "metadata": {},
   "source": [
    "## Part b\n",
    "Using the above function, returned edges are still several pixels wide.\n",
    "In practice, this is often not desired.\n",
    "Create a function ``get_edges_with_nms`` that extends ``get_edges`` by using the following function to suppress non-maximum points along the gradient direction."
   ]
  },
  {
   "cell_type": "code",
   "execution_count": null,
   "metadata": {
    "nbgrader": {
     "grade": true,
     "grade_id": "cell-965edb7fde929842",
     "locked": false,
     "points": 0,
     "schema_version": 1,
     "solution": true
    }
   },
   "outputs": [],
   "source": [
    "def nms_for_canny(grad_mag, grad_dir):\n",
    "    result = np.zeros_like(grad_mag)\n",
    "        \n",
    "    # Pre-define pixel index offset along different orientation\n",
    "    offsets_x = [-1, -1, 0, 1, 1, 1, 0, -1, -1]\n",
    "    offsets_y = [0, -1, -1, -1, 0, 1, 1, 1, 0]\n",
    "    height, width = grad_mag.shape\n",
    "    for y in range(1, height-1):\n",
    "        for x in range(1, width-1):\n",
    "            \n",
    "            ### BEGIN SOLUTION\n",
    "            d = grad_dir[y, x]\n",
    "            # Find neighboring pixels in direction of the gradient\n",
    "            # `d` is in radians, ranging from -pi to +pi\n",
    "            # make `idx` range from 0 to 8, quantized\n",
    "            idx = int(round((d + np.pi) / (2*np.pi) * 8))\n",
    "            ox, oy = offsets_x[idx], offsets_y[idx]\n",
    "            \n",
    "            # Suppress all non-maximum points\n",
    "            # Note: this simplified code does not interpolate between neighboring pixels!\n",
    "            if ((grad_mag[y, x] > grad_mag[y + oy, x + ox]) and\n",
    "                (grad_mag[y, x] > grad_mag[y - oy, x - ox])):\n",
    "                result[y, x] = grad_mag[y, x]\n",
    "                \n",
    "            ### END SOLUTION\n",
    "    \n",
    "    return result"
   ]
  },
  {
   "cell_type": "markdown",
   "metadata": {},
   "source": [
    "Note that this simplified code does not interpolate between the neighboring pixel values in order to look up the real magnitude samples along the gradient direction.\n",
    "This interpolation is crucial to obtain the necessary robustness for an actual implementation.\n",
    "Here it was left out for better readability, since the interpolation involves some extra effort in order to deal with all special cases (e.g. exactly horizontal or vertical gradients).\n",
    "If you feel motivated, you can try to add this step to make the function more robust.\n",
    "\n",
    "Another problem is that suitable values for ``theta`` may vary substantially between images.\n",
    "Extend the function ``get_edges_with_nms`` such that the threshold $\\theta \\in [0,1]$ is defined relative to the maximal gradient magnitude value in the image."
   ]
  },
  {
   "cell_type": "code",
   "execution_count": null,
   "metadata": {
    "nbgrader": {
     "grade": true,
     "grade_id": "cell-1b4393e5c8f86359",
     "locked": false,
     "points": 0,
     "schema_version": 1,
     "solution": true
    }
   },
   "outputs": [],
   "source": [
    "def get_edges_with_nms(image, sigma, theta):\n",
    "    ### BEGIN SOLUTION\n",
    "    grad_mag, grad_dir = image_gradients_polar(image, sigma)\n",
    "    \n",
    "    # Perform non-maximum suppression\n",
    "    grad_mag = nms_for_canny(grad_mag, grad_dir)\n",
    "    \n",
    "    # Define the threshold relative to max gradient\n",
    "    return grad_mag >= theta * np.max(grad_mag)\n",
    "    ### END SOLUTION"
   ]
  },
  {
   "cell_type": "markdown",
   "metadata": {},
   "source": [
    "Try your function on the given example images and describe your results."
   ]
  },
  {
   "cell_type": "code",
   "execution_count": null,
   "metadata": {},
   "outputs": [],
   "source": [
    "edges1 = get_edges(gray_im, sigma=2, theta=5)\n",
    "edges2 = get_edges_with_nms(gray_im, sigma=2, theta=0.17) # 0.17 corresponds to an absolute threshold of 5\n",
    "\n",
    "plot_multiple([edges1, edges2], ['get_edges', 'get_edges_with_nms'], imsize=6)"
   ]
  },
  {
   "cell_type": "markdown",
   "metadata": {},
   "source": [
    "## Part c\n",
    "The function ``get_edges`` you implemented is a simplified version of the Canny edge detection pipeline.\n",
    "The main step that is still missing is the edge following with hysteresis thresholding.\n",
    "The idea here is that instead of applying a single threshold over the entire image, the edge detector works with two different thresholds ``theta_high`` and ``theta_low``.\n",
    "It starts with an edge pixel with a value above ``theta_high`` and then follows the contour in the direction orthogonal to the gradient until the pixel value falls below ``theta_low``.\n",
    "Each pixel visited along the way is labeled as an edge.\n",
    "The procedure is repeated until no further pixel above ``theta_high`` remains.\n",
    "\n",
    "Try writing a function ``my_canny`` that implements this procedure.\n",
    "Don't worry about efficiency for the moment.\n",
    "The following hints may help you:\n",
    "- You can create a boolean array ``visited`` for already visited and yet-to-visit image pixels. Since we are not interested in pixels below the low threshold you can mark them as visited. In another boolean array you can flag the pixels that serve as starting points for line following.\n",
    "- You can also avoid having to deal with special cases along the image borders by creating a 1-pixel boundary where the ``visited`` flag is set to ``true``.\n",
    "- The actual edge following part is most easily implemented as a recursive procedure. In most cases, you will have the option to choose between several possible continuation points. Again, the easiest way is to try all of them in sequence (or even all 8 neighbors) and let the recursive procedure (together with the ``visited`` flags) do the rest."
   ]
  },
  {
   "cell_type": "code",
   "execution_count": null,
   "metadata": {},
   "outputs": [],
   "source": [
    "def my_canny(image, sigma, theta_low, theta_high):\n",
    "    # Compute gradient, apply non-maximum suppression\n",
    "    grad_mag, grad_dir = image_gradients_polar(image, sigma)\n",
    "    grad_mag = nms_for_canny(grad_mag, grad_dir)\n",
    "    \n",
    "    # Compute absolute threshold relative to max value\n",
    "    max_val = np.max(grad_mag)\n",
    "    theta_low_abs = theta_low * max_val\n",
    "    theta_high_abs = theta_high * max_val\n",
    "    \n",
    "    # Initialize flags\n",
    "    # Declare all pixels below the low threshold as visited\n",
    "    # so edges are not followed there\n",
    "    visited = grad_mag < theta_low_abs  \n",
    "    \n",
    "    # Mark boundary pixels as visited\n",
    "    visited[:, 0] = 1\n",
    "    visited[:, -1] = 1\n",
    "    visited[0, :] = 1\n",
    "    visited[-1, :] = 1\n",
    " \n",
    "    # Output image\n",
    "    image_out = np.zeros_like(image)\n",
    "    \n",
    "    def follow_edge(x, y):\n",
    "        visited[y, x] = True\n",
    "        image_out[y, x] = 255\n",
    "        \n",
    "        # Pre-define pixel index offset along different orientation\n",
    "        offsets_x = [-1, -1, 0, 1, 1, 1, 0, -1]\n",
    "        offsets_y = [0, -1, -1, -1, 0, 1, 1, 1]           \n",
    "    \n",
    "        for ox, oy in zip(offsets_x, offsets_y):\n",
    "            # Note: `visited` is already False for points\n",
    "            # below the low threshold.\n",
    "            \n",
    "            ### BEGIN SOLUTION\n",
    "            if not visited[y + oy, x + ox]:\n",
    "                follow_edge(x + ox, y + oy)\n",
    "            \n",
    "\n",
    "    is_high = grad_mag >= theta_high_abs\n",
    "    # Main loop\n",
    "    for x in range(image.shape[1]):\n",
    "        for y in range(image.shape[0]):\n",
    "            ### BEGIN SOLUTION\n",
    "            if is_high[y, x] and not visited[y, x]:\n",
    "                follow_edge(x, y)\n",
    "            ### END SOLUTION\n",
    "                \n",
    "    return image_out                "
   ]
  },
  {
   "cell_type": "markdown",
   "metadata": {},
   "source": [
    "OpenCV already provides built-in function that implements the Canny edge detector.\n",
    "https://opencv-python-tutroals.readthedocs.io/en/latest/py_tutorials/py_imgproc/py_canny/py_canny.html\n",
    "Try ``cv2.Canny`` on the provided example images and compare the results to those of your implementation.\n",
    "Note: the implementation of ``cv2.Canny`` does not include bluring the image as we did.\n",
    "So apply ``cv2.GaussianBlur`` on the image, before passing to ``cv2.Canny``.\n",
    "What do you observe?"
   ]
  },
  {
   "cell_type": "code",
   "execution_count": null,
   "metadata": {},
   "outputs": [],
   "source": [
    "edge_canny = my_canny(gray_im, sigma=2, theta_low=0.1, theta_high=0.3)\n",
    "\n",
    "blurred_cv = cv2.GaussianBlur(gray_im, ksize=(7,7), sigmaX=2)\n",
    "edge_canny_cv = cv2.Canny(\n",
    "    blurred_cv.astype(np.uint8), \n",
    "    39, 72, L2gradient=True).astype(np.float32)\n",
    "\n",
    "plot_multiple([edge_canny, edge_canny_cv, edge_canny-edge_canny_cv], \n",
    "              ['my_canny', 'cv2.Canny', 'Difference'], imsize=5)"
   ]
  },
  {
   "cell_type": "markdown",
   "metadata": {},
   "source": [
    "## Pard d (bonus)\n",
    "\n",
    "This solution gives better results, but its results still depend strongly on the maximal gradient magnitude value in the image.\n",
    "For a cleaner solution, we want to adapt the threshold to the distribution of all gradient magnitude values, such that we can directly control the number of edge pixels we get.\n",
    "Extend the function `get_edges` by the following steps in order to do this:\n",
    "\n",
    "- Perform non-maximum suppression on the gradient magnitude image as shown above.\n",
    "- Transform the result image into a vector.\n",
    "- Build a histogram of the remaining gradient magnitude values.\n",
    "- Compute the cumulative sum over the histogram (except for the first cell).\n",
    "- The last cell of the cumulative histogram now contains the total number of edge pixels in the image, `num_total_edge_pixels`. Compute the desired number of edge pixels `num_desired_edge_pixels` as the percentage `theta` of `num_total_edge_pixels`.\n",
    "- Find the threshold for which the cumulative histogram contains the value `num_desired_edge_pixels`."
   ]
  },
  {
   "cell_type": "code",
   "execution_count": null,
   "metadata": {},
   "outputs": [],
   "source": []
  }
 ],
 "metadata": {
  "celltoolbar": "Create Assignment",
  "kernelspec": {
   "display_name": "Python 3",
   "language": "python",
   "name": "python3"
  },
  "language_info": {
   "codemirror_mode": {
    "name": "ipython",
    "version": 3
   },
   "file_extension": ".py",
   "mimetype": "text/x-python",
   "name": "python",
   "nbconvert_exporter": "python",
   "pygments_lexer": "ipython3",
   "version": "3.6.6"
  }
 },
 "nbformat": 4,
 "nbformat_minor": 2
}
